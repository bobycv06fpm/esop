{
 "cells": [
  {
   "cell_type": "markdown",
   "metadata": {},
   "source": [
    "# Using ESOP to design multi-phase lock-downs under constraints\n",
    "### Accompanying paper available at https://arxiv.org/abs/2005.11257"
   ]
  },
  {
   "cell_type": "code",
   "execution_count": 1,
   "metadata": {},
   "outputs": [],
   "source": [
    "%load_ext autoreload\n",
    "%autoreload 2"
   ]
  },
  {
   "cell_type": "code",
   "execution_count": 2,
   "metadata": {},
   "outputs": [],
   "source": [
    "from skopt import gp_minimize as gpm\n",
    "import numpy as np\n",
    "import time\n",
    "from utils import Population\n",
    "from matplotlib import pyplot as plt\n",
    "import pylab as plb"
   ]
  },
  {
   "cell_type": "markdown",
   "metadata": {},
   "source": [
    "**Getting started**: we load the generic population file and set the simulations to run for 500 time steps.\n",
    "\n",
    "**Notation**: We use I2, P2, L2 to denote respectively, the initiation point, period and the level of the (third) lockdown that ESOP is trying to optimize. These are referred ensemble as IPL. The previous two lock-downs (that have already happened) are denoted using (I0, P0, L0) and (I1, P1, L1) respectively. In this experiment, all three parameters I2, P2, L2 are being optimized (but (I0, P0, L0) and (I1, P1, L1) are fixed) under constraints that I2 must be no less than I1 + P1 + 10 (i.e. the third lock-down must start no earlier than 10 days after the second lock-down ended) and P0 must be no larger than 40 (i.e. no lock-down longer than 40 days)"
   ]
  },
  {
   "cell_type": "code",
   "execution_count": 3,
   "metadata": {},
   "outputs": [],
   "source": [
    "pop = Population.fileInit( \"pop_generic\" )\n",
    "N = pop.N\n",
    "T = 500"
   ]
  },
  {
   "cell_type": "code",
   "execution_count": 4,
   "metadata": {},
   "outputs": [],
   "source": [
    "SIDX_S = 0    # Number of susceptible but non-recovered individuals\n",
    "SIDX_E = 1    # Number of exposed individuals\n",
    "SIDX_I = 2    # Number of infectious individuals\n",
    "SIDX_Q = 3    # Number of quanrantined individuals\n",
    "SIDX_R = 4    # Number of recovered individuals\n",
    "SIDX_X = 5    # Number of expired individuals\n",
    "SIDX_V = 6    # Average virulence of the viral strains in E and I populations\n",
    "SIDX_EI = 7    # Number of infected individuals\n",
    "SIDX_D = 8    # Number of individuals infected each day"
   ]
  },
  {
   "cell_type": "code",
   "execution_count": 5,
   "metadata": {},
   "outputs": [],
   "source": [
    "# From the normalized parameters being optimized by ESOP, recover the I2, P2, L2 values\n",
    "def getIPL2( x ):\n",
    "    global IPL2c, IPL2w, offset, ul, ll\n",
    "    IPLVal = np.floor( IPL2c + (np.array(x) - 0.5) / 0.5 * IPL2w ).astype(int) + offset.astype(int)\n",
    "    correctedIPLVal = np.minimum( np.maximum( IPLVal, ll ), ul )\n",
    "    return correctedIPLVal\n",
    "\n",
    "# Get a lockdown schedule corresponding to a certain IPL value for the 3rd lock-down.\n",
    "# Make sure to incorporate the previous two lockdowns as well.\n",
    "# The IPL parameter stores lockdown levels from 0 to 10 instead of 0 to 5\n",
    "# Thus, before using them, divide by 2\n",
    "def getLKP( IPL ):\n",
    "    LKP = np.zeros((T,))\n",
    "    LKP[I0:I0+P0] = L0\n",
    "    LKP[I1:I1+P1] = L1\n",
    "    I2 = IPL[0]\n",
    "    P2 = IPL[1]\n",
    "    L2 = IPL[2] / 2\n",
    "    LKP[I2:I2+P2] = L2\n",
    "    return LKP\n",
    "\n",
    "# Find out the objective value corresponding to the stats sent as input\n",
    "def obj( stats, IPL ):\n",
    "    global SIDX_EI\n",
    "    fEpi = np.max( stats[ SIDX_EI, : ] )\n",
    "    # One day of lockdown at level l causes (l/50)% of population to lose their jobs\n",
    "    daysLockdown = IPL[1]\n",
    "    # Remember, the IPL stores levels from 0 to 10 instead of 0 to 5\n",
    "    level = IPL[2] / 2\n",
    "    fEco = level / 5 * daysLockdown * N / 1000\n",
    "    return [fEpi, fEco, fEpi + fEco]\n",
    "\n",
    "# Ask the VIPER simulator what does it think will happen if the 3rd lock-down\n",
    "# is initiated as specified in the normalized parameter x\n",
    "def askSimulator( x ):\n",
    "    global evalCount, globalDict, freshMask\n",
    "    # Before starting a simulation, turn back time to reset everything\n",
    "    pop.reset()\n",
    "    # Also seed the RNG so that simulations are replicatable\n",
    "    np.random.seed(0)\n",
    "    IPL = getIPL2( x )\n",
    "    # Avoid simulating again for previously queried points\n",
    "    if tuple(IPL) in globalDict:\n",
    "        freshMask.append( False )\n",
    "        return globalDict[tuple(IPL)][-1]\n",
    "    LKP = getLKP( IPL )\n",
    "    stats = pop.simulate( T = T, LKP = LKP, minimal = True )\n",
    "    globalDict[tuple(IPL)] = obj( stats, IPL )\n",
    "    freshMask.append( True )\n",
    "    evalCount += 1\n",
    "    return obj( stats, IPL )[-1]\n",
    "\n",
    "# Once ESOP is done, find out which parameter, i.e. which values of I2, P2, L2 won!\n",
    "def getWinner():\n",
    "    global globalDict\n",
    "    keys = list( globalDict.keys() )\n",
    "    vals = np.array( list( globalDict.values() ) )[:,-1]\n",
    "    winnerIdx = np.argmin( vals )\n",
    "    winner = np.array( keys[ winnerIdx ] )\n",
    "    return winner"
   ]
  },
  {
   "cell_type": "markdown",
   "metadata": {},
   "source": [
    "**Multi-scale Optimization**: ESOP performs Bayesian optimization in a multi-scale manner in several epochs. Initial epochs perform coarse optimization to roughly identify the region with promising objective values. Later epochs zoom into those regions to more and more finely search to obtain points offering highly optimal objective values.\n",
    "\n",
    "In multi-dimensional optimization cases such as this, where 3 parameters are simultaneously getting optimized, this procedure is made slightly more robust by retaining a diverse _active set_ of good-performing candidates from each epoch and searching around them in the next epoch."
   ]
  },
  {
   "cell_type": "code",
   "execution_count": 6,
   "metadata": {},
   "outputs": [],
   "source": [
    "def getAllPairsDistances( A, B ):\n",
    "    weights = np.array( [ 0.01, 0.01, 0.1 ] )\n",
    "    Aw = weights * A\n",
    "    Bw = weights * B\n",
    "    squaredNormsA = np.square( np.linalg.norm( Aw, axis = 1 ) )\n",
    "    squaredNormsB = np.square( np.linalg.norm( Bw, axis = 1 ) )\n",
    "    dists = squaredNormsA[:, np.newaxis] + squaredNormsB - 2 * Aw.dot( Bw.T )\n",
    "    dists[ dists < 0 ] = 0\n",
    "    return dists\n",
    "\n",
    "def addCandidates( res ):\n",
    "    global branchBound, candidates\n",
    "    perm = np.argsort( res.func_vals )\n",
    "    for i in range( 2 * branchBound ):\n",
    "        key = tuple( getIPL2( res.x_iters[ perm[i] ] ) )\n",
    "        val = res.func_vals[ perm[i] ]\n",
    "        if key not in candidates:\n",
    "            candidates[key] = val\n",
    "\n",
    "def updateActive():\n",
    "    global branchBound, candidates\n",
    "    keys = list( candidates.keys() )\n",
    "    vals = list( candidates.values() )\n",
    "    perm = np.argsort( vals )\n",
    "    # Screen the top few best performing keys\n",
    "    n = min( 2 * branchBound, len( candidates ) )\n",
    "    keysScreened = np.array( [ keys[ perm[j] ] for j in range(n) ] )\n",
    "    activeSet = np.zeros( (branchBound, keysScreened.shape[1]) )\n",
    "    # Definitely include the best performing candidate in the active set\n",
    "    i = 0\n",
    "    activeSet[0,:] = keysScreened[i,:]\n",
    "    # To select the rest of the active set, perform the k-means++ algorithm\n",
    "    for t in range( 1 , min( branchBound, len( candidates ) ) ):\n",
    "        dist = np.min( getAllPairsDistances( keysScreened, activeSet[0:t,:] ), axis = 1 )\n",
    "        probs = dist/np.sum(dist)\n",
    "        i = np.argmax( probs ) # Alternatively, we could have used np.random.choice( np.arange(n), p = probs )\n",
    "        activeSet[t,:] = keysScreened[i,:]\n",
    "    return activeSet"
   ]
  },
  {
   "cell_type": "code",
   "execution_count": 7,
   "metadata": {
    "scrolled": false
   },
   "outputs": [
    {
     "name": "stdout",
     "output_type": "stream",
     "text": [
      "epoch =  0\n",
      "subepoch 1 of 2\n"
     ]
    },
    {
     "name": "stdout",
     "output_type": "stream",
     "text": [
      "subepoch 2 of 2\n",
      "epoch =  1\n",
      "subepoch 1 of 2\n",
      "subepoch 2 of 2\n",
      "epoch =  2\n",
      "subepoch 1 of 2\n",
      "subepoch 2 of 2\n",
      "epoch =  3\n",
      "subepoch 1 of 2\n",
      "subepoch 2 of 2\n",
      "epoch =  4\n",
      "subepoch 1 of 2\n",
      "subepoch 2 of 2\n"
     ]
    }
   ],
   "source": [
    "# The first two lock-downs have already happened\n",
    "# Their parameters are fixed and not optimizable anymore\n",
    "\n",
    "I0 = 15\n",
    "P0 = 15\n",
    "L0 = 4\n",
    "\n",
    "I1 = 56\n",
    "P1 = 35\n",
    "L1 = 4\n",
    "\n",
    "# All parameters are optimized in various ranges that are described using\n",
    "# the center point of the range, the half-width of the range and the initial\n",
    "# offset of the range e.g. the range with center c, width w and offset o is\n",
    "# the range [o + c - w, o + c + w]. Each of the three parameters I2, P2, L2\n",
    "# have their own centers, widths and offsets specified below\n",
    "IPL2c = np.array( [25, 20, 5] )\n",
    "IPL2w = np.array( [25, 20, 5] )\n",
    "offset = np.array( [100, 0, 0] )\n",
    "\n",
    "# Upper and lower bounds on legal values of lock-down initiation points\n",
    "ul = np.array( [150, 40, 10] )\n",
    "ll = np.array( [100, 0, 0] )\n",
    "\n",
    "branchBound = 2\n",
    "activeSet = []\n",
    "evalCount = 0\n",
    "globalDict = {}\n",
    "freshMask = []\n",
    "\n",
    "candidates = {}\n",
    "res = gpm( askSimulator, [(0.0, 1.0), (0.0, 1.0), (0.0, 1.0)],  acq_func = \"EI\", n_calls = 20, n_random_starts = 5, random_state = 0 )\n",
    "addCandidates( res )\n",
    "activeSet = updateActive()\n",
    "# Halve the width of the region in which we are searching\n",
    "IPL2w = IPL2w / 2\n",
    "\n",
    "for epoch in range(5):\n",
    "    print( \"epoch = \", epoch )\n",
    "    candidates = {}\n",
    "    for subepoch in range( len( activeSet ) ):\n",
    "        print( \"subepoch %d of %d\" % ( subepoch + 1, len( activeSet ) ) )\n",
    "        IPL2c = activeSet[subepoch]\n",
    "        res = gpm( askSimulator, [(0.0, 1.0), (0.0, 1.0), (0.0, 1.0)],  acq_func = \"EI\", n_calls = 20 - epoch, n_random_starts = 5, random_state = 0 )\n",
    "        addCandidates( res )\n",
    "    # Refine the search in the next epoch\n",
    "    # Choose new candidates to populate the active set\n",
    "    activeSet = updateActive()\n",
    "    # Halve the width of the region in which we are searching\n",
    "    IPL2w = IPL2w / 2"
   ]
  },
  {
   "cell_type": "markdown",
   "metadata": {},
   "source": [
    "**Convergence Plot**: The following plot shows how fast ESOP converges to a near-optimal point"
   ]
  },
  {
   "cell_type": "code",
   "execution_count": 8,
   "metadata": {
    "scrolled": true
   },
   "outputs": [
    {
     "name": "stdout",
     "output_type": "stream",
     "text": [
      "Start on day 114, last for 25 days, at level 3.500000\n"
     ]
    },
    {
     "data": {
      "image/png": "[encoded data removed]",
      "text/plain": [
       "<Figure size 432x288 with 1 Axes>"
      ]
     },
     "metadata": {
      "needs_background": "light"
     },
     "output_type": "display_data"
    }
   ],
   "source": [
    "# Find out the suggestion made by ESOP\n",
    "IPLBest = getWinner()\n",
    "print( \"Start on day %d, last for %d days, at level %f\" % ( IPLBest[0], IPLBest[1], IPLBest[2]/2 ) )\n",
    "\n",
    "validVals = np.array( list( globalDict.values() ) )\n",
    "mins = np.minimum.accumulate( validVals[:,2] )\n",
    "plt.figure()\n",
    "plt.plot( np.arange(1, len( validVals ) + 1), mins, color = 'k', linewidth = 4 )\n",
    "plt.xlabel( \"# Calls to VIPER\" )\n",
    "plt.ylabel( \"Objective value\" )\n",
    "plt.tight_layout()"
   ]
  },
  {
   "cell_type": "markdown",
   "metadata": {},
   "source": [
    "**Results of partial lock-downs**: to understand what would have happened had the third lockdown not taken place, we perform hypothetical experiments with just the first and then just the first two lock-downs"
   ]
  },
  {
   "cell_type": "code",
   "execution_count": 9,
   "metadata": {},
   "outputs": [],
   "source": [
    "# Get hold of outcomes with just the first lockdown\n",
    "pop.reset()\n",
    "np.random.seed(0)\n",
    "\n",
    "LKP = np.zeros((T,))\n",
    "LKP[I0:I0+P0] = L0\n",
    "\n",
    "(statsLKP1, tInfect, tQuarantine, tRecovery, tExpiry) = pop.simulate( T = T, LKP = LKP )\n",
    "\n",
    "# Get hold of outcomes with just the first two lockdowns\n",
    "pop.reset()\n",
    "np.random.seed(0)\n",
    "\n",
    "LKP = np.zeros((T,))\n",
    "LKP[I0:I0+P0] = L0\n",
    "LKP[I1:I1+P1] = L1\n",
    "\n",
    "(statsLKP2, tInfect, tQuarantine, tRecovery, tExpiry) = pop.simulate( T = T, LKP = LKP )"
   ]
  },
  {
   "cell_type": "markdown",
   "metadata": {},
   "source": [
    "# Final Results"
   ]
  },
  {
   "cell_type": "code",
   "execution_count": 10,
   "metadata": {},
   "outputs": [
    {
     "name": "stdout",
     "output_type": "stream",
     "text": [
      "13977 Infected\n",
      "1999 Expired\n",
      "Peak 6052\n",
      "Recovery time 82.791667\n",
      "Expiry time 22.046523\n",
      "Quarantine time 11.152221\n",
      "13303 Quarantined\n",
      "Objective acheived is 6052.000000 (fEpi) + 350.000000 (fEco) = 6402.000000 (overall)\n"
     ]
    }
   ],
   "source": [
    "pop.reset()\n",
    "np.random.seed(0)\n",
    "\n",
    "LKP = getLKP( IPLBest )\n",
    "\n",
    "(stats, tInfect, tQuarantine, tRecovery, tExpiry) = pop.simulate( T = T, LKP = LKP )\n",
    "\n",
    "outcome = obj( stats, IPLBest )\n",
    "print( \"%d Infected\" % len(tInfect) )\n",
    "print( \"%d Expired\" % len(tExpiry) )\n",
    "print( \"Peak %d\" % max(stats[SIDX_EI,:]) )\n",
    "print( \"Recovery time %f\" % np.mean( tRecovery ) )\n",
    "print( \"Expiry time %f\" % np.mean( tExpiry ) )\n",
    "print( \"Quarantine time %f\" % np.mean( tQuarantine ) )\n",
    "print( \"%d Quarantined\" % len( tQuarantine ) )\n",
    "print( \"Objective acheived is %f (fEpi) + %f (fEco) = %f (overall)\" % (outcome[0], outcome[1], outcome[2]) )"
   ]
  },
  {
   "cell_type": "markdown",
   "metadata": {},
   "source": [
    "**Outcome of Lock-down suggested by ESOP**: The following code is meant to reproduce Fig 4(d) in the accompanying paper."
   ]
  },
  {
   "cell_type": "code",
   "execution_count": 11,
   "metadata": {},
   "outputs": [
    {
     "data": {
      "image/png": "[encoded data removed]",
      "text/plain": [
       "<Figure size 432x288 with 2 Axes>"
      ]
     },
     "metadata": {
      "needs_background": "light"
     },
     "output_type": "display_data"
    }
   ],
   "source": [
    "names = [ \"S\", \"E\", \"I\", \"Q\", \"R\", \"X\", \"V\", \"EI\", \"D\" ]\n",
    "fullnames = [ \"Susceptible (S)\", \"Exposed (E)\", \"Infectious (I)\", \"Quarantined (Q)\", \"Recovered (R)\", \"Expired (X)\", \"V\", \"Exposed + Infectious (E + I)\", \"Daily\" ]\n",
    "\n",
    "fig = plt.figure()\n",
    "plt.plot( statsLKP1[SIDX_EI,:], color = \"#ff7f0e\", linestyle = \":\", linewidth = 4 )\n",
    "plt.plot( statsLKP2[SIDX_EI,:], color = \"#ff7f0e\", linestyle = \":\", linewidth = 4 )\n",
    "plt.plot( stats[SIDX_EI,:], label = fullnames[SIDX_EI], color = \"#ff7f0e\", linewidth = 4 )\n",
    "plt.plot( stats[SIDX_X,:], label = fullnames[SIDX_X], color = \"#d62728\", linewidth = 4 )\n",
    "plt.plot( stats[SIDX_I,:] - stats[SIDX_Q], label = \"Non-quaran. Infectious (I - Q)\", color = \"#9467bd\", linewidth = 4 )\n",
    "ax = plt.gca()\n",
    "plt.grid()\n",
    "plt.xlabel(\"Time\", size = 16)\n",
    "plt.ylabel(\"Number of Individuals\", size = 16)\n",
    "ax.tick_params( axis='both', which='major', labelsize = 12 )\n",
    "plt.legend( loc = \"upper right\", fontsize = 10 )\n",
    "ax.set_xlim( 0, 300 )\n",
    "ax2 = ax.twinx()\n",
    "fillLimit0 = getLKP( [0,0,0] )\n",
    "plb.fill( np.arange( T ), fillLimit0, facecolor = \"green\", label = \"earlier lock-downs\", alpha = 0.15 )\n",
    "fillLimit1 = LKP\n",
    "fillLimit1[:100] = 0\n",
    "plb.fill( np.arange( T ), fillLimit1, facecolor = \"blue\", label = \"lock-down #3 (by ESOP)\", alpha = 0.15 )\n",
    "ax2.set_ylim([0,5])\n",
    "plt.ylabel( \"Lock-down level\", size = 16 )\n",
    "plt.legend( loc = \"center right\", fontsize = 10 )\n",
    "plt.tight_layout()"
   ]
  },
  {
   "cell_type": "code",
   "execution_count": null,
   "metadata": {},
   "outputs": [],
   "source": []
  }
 ],
 "metadata": {
  "author": {
   "email": "purushot@cse.iitk.ac.in",
   "institution": "IIT Kanpur",
   "name": "Puru"
  },
  "kernelspec": {
   "display_name": "Python 3",
   "language": "python",
   "name": "python3"
  },
  "language_info": {
   "codemirror_mode": {
    "name": "ipython",
    "version": 3
   },
   "file_extension": ".py",
   "mimetype": "text/x-python",
   "name": "python",
   "nbconvert_exporter": "python",
   "pygments_lexer": "ipython3",
   "version": "3.7.2"
  }
 },
 "nbformat": 4,
 "nbformat_minor": 2
}
